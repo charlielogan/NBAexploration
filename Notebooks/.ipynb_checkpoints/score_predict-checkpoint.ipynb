{
 "cells": [
  {
   "cell_type": "code",
   "execution_count": 1,
   "metadata": {},
   "outputs": [],
   "source": [
    "from nba_api.stats.endpoints import teamyearbyyearstats, leaguestandings, leaguegamefinder, playbyplay\n",
    "from nba_api.stats.static import teams\n",
    "\n",
    "ppg = {}\n",
    "oppg = {}\n",
    "abbrevs = {}\n",
    "team_dict = {}\n",
    "\n",
    "stan = leaguestandings.LeagueStandings().get_dict()\n",
    "for d in stan['resultSets']:\n",
    "    for l in d['rowSet']:\n",
    "        name = l[4].split()[-1].upper()\n",
    "        if(name == '76ERS'):\n",
    "            name = 'SIXERS'\n",
    "        points = l[56]\n",
    "        opoints = l[57]\n",
    "        ppg[name] = points\n",
    "        oppg[name] = opoints\n",
    "        \n",
    "nba_teams = teams.get_teams()\n",
    "for team in nba_teams:\n",
    "    name = team['nickname'].split()[-1].upper()\n",
    "    if name == '76ERS':\n",
    "        name = 'SIXERS'\n",
    "    team_dict[name] = team['id']\n",
    "    abbrevs[team['abbreviation']] = name"
   ]
  },
  {
   "cell_type": "code",
   "execution_count": 2,
   "metadata": {},
   "outputs": [
    {
     "name": "stdout",
     "output_type": "stream",
     "text": [
      "Enter 1 for first quarter, 2 for halftime, 3 for third quarter:      3\n"
     ]
    }
   ],
   "source": [
    "import pickle\n",
    "text_file = open(\"predictions.txt\", \"wt\")\n",
    "# load it back in\n",
    "quarter = input(\"Enter 1 for first quarter, 2 for halftime, 3 for third quarter:      \")\n",
    "with open('../Models/predict_{}.sav'.format(quarter), 'rb') as pickle_file:\n",
    "     regression_model_2 = pickle.load(pickle_file)"
   ]
  },
  {
   "cell_type": "code",
   "execution_count": 132,
   "metadata": {},
   "outputs": [
    {
     "name": "stdout",
     "output_type": "stream",
     "text": [
      "Enter home team score 72\n",
      "Enter away team score 52\n",
      "Enter Home Abbreviation:   bos\n",
      "Enter Away Team Abbreviation:   bkn\n",
      "112.1\n",
      "109.5\n",
      "Your estimated total final: 235.55207320656223\n"
     ]
    },
    {
     "data": {
      "text/plain": [
       "1"
      ]
     },
     "execution_count": 132,
     "metadata": {},
     "output_type": "execute_result"
    }
   ],
   "source": [
    "home_score = int(input(\"Enter home team score \"))\n",
    "away_score = int(input(\"Enter away team score \"))\n",
    "home = input(\"Enter Home Abbreviation:   \").upper()\n",
    "away = input(\"Enter Away Team Abbreviation:   \").upper()\n",
    "\n",
    "avg_scored = (ppg[abbrevs[home]] + ppg[abbrevs[away]])/2\n",
    "avg_allowed = (oppg[abbrevs[home]] + oppg[abbrevs[away]])/2\n",
    "print(avg_scored)\n",
    "print(avg_allowed)\n",
    "\n",
    "total_score = home_score + away_score\n",
    "diff = abs(home_score-away_score)\n",
    "\n",
    "ans = regression_model_2.predict([[total_score, diff, avg_scored, avg_allowed]])\n",
    "\n",
    "print(\"Your estimated total final: \" + str(ans[0]))\n",
    "text_file.write(str(ans[0]))\n",
    "text_file.write('\\n')"
   ]
  },
  {
   "cell_type": "code",
   "execution_count": 98,
   "metadata": {},
   "outputs": [],
   "source": [
    "text_file.close()"
   ]
  }
 ],
 "metadata": {
  "kernelspec": {
   "display_name": "Python 3",
   "language": "python",
   "name": "python3"
  },
  "language_info": {
   "codemirror_mode": {
    "name": "ipython",
    "version": 3
   },
   "file_extension": ".py",
   "mimetype": "text/x-python",
   "name": "python",
   "nbconvert_exporter": "python",
   "pygments_lexer": "ipython3",
   "version": "3.7.1"
  }
 },
 "nbformat": 4,
 "nbformat_minor": 2
}
