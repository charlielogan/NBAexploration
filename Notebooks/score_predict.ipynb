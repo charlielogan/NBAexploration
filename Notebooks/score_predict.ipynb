{
 "cells": [
  {
   "cell_type": "code",
   "execution_count": 9,
   "metadata": {},
   "outputs": [],
   "source": [
    "from nba_api.stats.endpoints import teamyearbyyearstats, leaguestandings, leaguegamefinder, playbyplay\n",
    "from nba_api.stats.static import teams\n",
    "\n",
    "ppg = {}\n",
    "oppg = {}\n",
    "abbrevs = {}\n",
    "team_dict = {}\n",
    "\n",
    "stan = leaguestandings.LeagueStandings(season=2019).get_dict()\n",
    "for d in stan['resultSets']:\n",
    "    for l in d['rowSet']:\n",
    "        name = l[4].split()[-1].upper()\n",
    "        if(name == '76ERS'):\n",
    "            name = 'SIXERS'\n",
    "        points = l[56]\n",
    "        opoints = l[57]\n",
    "        ppg[name] = points\n",
    "        oppg[name] = opoints\n",
    "        \n",
    "nba_teams = teams.get_teams()\n",
    "for team in nba_teams:\n",
    "    name = team['nickname'].split()[-1].upper()\n",
    "    if name == '76ERS':\n",
    "        name = 'SIXERS'\n",
    "    team_dict[name] = team['id']\n",
    "    abbrevs[team['abbreviation']] = name"
   ]
  },
  {
   "cell_type": "code",
   "execution_count": 10,
   "metadata": {},
   "outputs": [
    {
     "name": "stdout",
     "output_type": "stream",
     "text": [
      "Enter 1 for first quarter, 2 for halftime, 3 for third quarter:      2\n"
     ]
    },
    {
     "name": "stderr",
     "output_type": "stream",
     "text": [
      "C:\\Users\\charl\\Anaconda3\\lib\\site-packages\\sklearn\\base.py:334: UserWarning: Trying to unpickle estimator LinearRegression from version 0.20.1 when using version 0.23.2. This might lead to breaking code or invalid results. Use at your own risk.\n",
      "  UserWarning)\n"
     ]
    }
   ],
   "source": [
    "import pickle\n",
    "text_file = open(\"predictions.txt\", \"wt\")\n",
    "# load it back in\n",
    "quarter = input(\"Enter 1 for first quarter, 2 for halftime, 3 for third quarter:      \")\n",
    "with open('../Models/predict_{}.sav'.format(quarter), 'rb') as pickle_file:\n",
    "     regression_model_2 = pickle.load(pickle_file)"
   ]
  },
  {
   "cell_type": "code",
   "execution_count": 11,
   "metadata": {},
   "outputs": [
    {
     "name": "stdout",
     "output_type": "stream",
     "text": [
      "Enter home team score 52\n",
      "Enter away team score 53\n",
      "Enter Home Abbreviation:   BOS\n",
      "Enter Away Team Abbreviation:   PHI\n",
      "112.2\n",
      "107.85\n",
      "Your estimated total final: 215.037844495863\n"
     ]
    },
    {
     "data": {
      "text/plain": [
       "1"
      ]
     },
     "execution_count": 11,
     "metadata": {},
     "output_type": "execute_result"
    }
   ],
   "source": [
    "home_score = int(input(\"Enter home team score \"))\n",
    "away_score = int(input(\"Enter away team score \"))\n",
    "home = input(\"Enter Home Abbreviation:   \").upper()\n",
    "away = input(\"Enter Away Team Abbreviation:   \").upper()\n",
    "\n",
    "avg_scored = (ppg[abbrevs[home]] + ppg[abbrevs[away]])/2\n",
    "avg_allowed = (oppg[abbrevs[home]] + oppg[abbrevs[away]])/2\n",
    "print(avg_scored)\n",
    "print(avg_allowed)\n",
    "\n",
    "total_score = home_score + away_score\n",
    "diff = abs(home_score-away_score)\n",
    "\n",
    "ans = regression_model_2.predict([[total_score, diff, avg_scored, avg_allowed]])\n",
    "\n",
    "print(\"Your estimated total final: \" + str(ans[0]))\n",
    "text_file.write(str(ans[0]))\n",
    "text_file.write('\\n')"
   ]
  },
  {
   "cell_type": "code",
   "execution_count": 98,
   "metadata": {},
   "outputs": [],
   "source": [
    "text_file.close()"
   ]
  }
 ],
 "metadata": {
  "kernelspec": {
   "display_name": "Python 3",
   "language": "python",
   "name": "python3"
  },
  "language_info": {
   "codemirror_mode": {
    "name": "ipython",
    "version": 3
   },
   "file_extension": ".py",
   "mimetype": "text/x-python",
   "name": "python",
   "nbconvert_exporter": "python",
   "pygments_lexer": "ipython3",
   "version": "3.7.1"
  }
 },
 "nbformat": 4,
 "nbformat_minor": 2
}
