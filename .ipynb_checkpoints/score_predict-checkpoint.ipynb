{
 "cells": [
  {
   "cell_type": "code",
   "execution_count": null,
   "metadata": {},
   "outputs": [],
   "source": [
    "ppg = {}\n",
    "oppg = {}"
   ]
  },
  {
   "cell_type": "code",
   "execution_count": 6,
   "metadata": {},
   "outputs": [
    {
     "name": "stdout",
     "output_type": "stream",
     "text": [
      "Enter 2 for halftime, 3 for third quarter:      3\n"
     ]
    }
   ],
   "source": [
    "import pickle\n",
    "# load it back in\n",
    "quarter = input(\"Enter 2 for halftime, 3 for third quarter:      \")\n",
    "with open('predict_{}.sav'.format(quarter), 'rb') as pickle_file:\n",
    "     regression_model_2 = pickle.load(pickle_file)"
   ]
  },
  {
   "cell_type": "code",
   "execution_count": 7,
   "metadata": {},
   "outputs": [
    {
     "name": "stdout",
     "output_type": "stream",
     "text": [
      "Enter home team score 94\n",
      "Enter away team score 80\n",
      "Season average points total for home team: 113\n",
      "Season average opposing points total for home team: 106.8\n",
      "Season average points total for away team: 109.3\n",
      "Season average opposing points total for away team: 107.4\n",
      "Your estimated total final: 212.44009176342396\n"
     ]
    }
   ],
   "source": [
    "home_score = int(input(\"Enter home team score \"))\n",
    "away_score = int(input(\"Enter away team score \"))\n",
    "home = float(input(\"Season average points total for home team: \"))\n",
    "home_o = float(input(\"Season average opposing points total for home team: \"))\n",
    "away = float(input(\"Season average points total for away team: \"))\n",
    "away_o = float(input(\"Season average opposing points total for away team: \"))\n",
    "\n",
    "total_score = home_score + away_score\n",
    "total_average = (home + away + home_o + away_o)/2\n",
    "diff = abs(home_score-away_score)\n",
    "\n",
    "ans = regression_model_2.predict([[total_average, total_score, diff]])\n",
    "print(\"Your estimated total final: \" + str(ans[0]))"
   ]
  },
  {
   "cell_type": "code",
   "execution_count": null,
   "metadata": {},
   "outputs": [],
   "source": []
  }
 ],
 "metadata": {
  "kernelspec": {
   "display_name": "Python 3",
   "language": "python",
   "name": "python3"
  },
  "language_info": {
   "codemirror_mode": {
    "name": "ipython",
    "version": 3
   },
   "file_extension": ".py",
   "mimetype": "text/x-python",
   "name": "python",
   "nbconvert_exporter": "python",
   "pygments_lexer": "ipython3",
   "version": "3.7.1"
  }
 },
 "nbformat": 4,
 "nbformat_minor": 2
}
