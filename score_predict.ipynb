{
 "cells": [
  {
   "cell_type": "code",
   "execution_count": 5,
   "metadata": {},
   "outputs": [],
   "source": [
    "from nba_api.stats.endpoints import teamyearbyyearstats, leaguestandings, leaguegamefinder, playbyplay\n",
    "from nba_api.stats.static import teams\n",
    "\n",
    "ppg = {}\n",
    "oppg = {}\n",
    "abbrevs = {}\n",
    "team_dict = {}\n",
    "\n",
    "stan = leaguestandings.LeagueStandings().get_dict()\n",
    "for d in stan['resultSets']:\n",
    "    for l in d['rowSet']:\n",
    "        name = l[4].split()[-1].upper()\n",
    "        if(name == '76ERS'):\n",
    "            name = 'SIXERS'\n",
    "        points = l[56]\n",
    "        opoints = l[57]\n",
    "        ppg[name] = points\n",
    "        oppg[name] = opoints\n",
    "        \n",
    "nba_teams = teams.get_teams()\n",
    "for team in nba_teams:\n",
    "    name = team['nickname'].split()[-1].upper()\n",
    "    if name == '76ERS':\n",
    "        name = 'SIXERS'\n",
    "    team_dict[name] = team['id']\n",
    "    abbrevs[team['abbreviation']] = name"
   ]
  },
  {
   "cell_type": "code",
   "execution_count": 8,
   "metadata": {},
   "outputs": [
    {
     "name": "stdout",
     "output_type": "stream",
     "text": [
      "Enter 2 for halftime, 3 for third quarter:      2\n"
     ]
    }
   ],
   "source": [
    "import pickle\n",
    "# load it back in\n",
    "quarter = input(\"Enter 2 for halftime, 3 for third quarter:      \")\n",
    "with open('predict_{}.sav'.format(quarter), 'rb') as pickle_file:\n",
    "     regression_model_2 = pickle.load(pickle_file)"
   ]
  },
  {
   "cell_type": "code",
   "execution_count": 10,
   "metadata": {},
   "outputs": [
    {
     "name": "stdout",
     "output_type": "stream",
     "text": [
      "Enter home team score 66\n",
      "Enter away team score 71\n",
      "Enter Home Abbreviation:   BOS\n",
      "Enter Away Team Abbreviation:   PHI\n",
      "219.8\n",
      "217.0\n",
      "Your estimated total final: 206.89064735602176\n"
     ]
    }
   ],
   "source": [
    "home_score = int(input(\"Enter home team score \"))\n",
    "away_score = int(input(\"Enter away team score \"))\n",
    "home = input(\"Enter Home Abbreviation:   \").upper()\n",
    "away = input(\"Enter Away Team Abbreviation:   \").upper()\n",
    "\n",
    "home_pts = ppg[abbrevs[home]] + oppg[abbrevs[home]]\n",
    "away_pts = ppg[abbrevs[away]] + oppg[abbrevs[away]]\n",
    "print(home_pts)\n",
    "print(away_pts)\n",
    "\n",
    "total_score = home_score + away_score\n",
    "total_average = (home_pts + away_pts)/2\n",
    "diff = abs(home_score-away_score)\n",
    "\n",
    "ans = regression_model_2.predict([[total_average, total_score, diff]])\n",
    "print(\"Your estimated total final: \" + str(ans[0]))"
   ]
  },
  {
   "cell_type": "code",
   "execution_count": null,
   "metadata": {},
   "outputs": [],
   "source": []
  }
 ],
 "metadata": {
  "kernelspec": {
   "display_name": "Python 3",
   "language": "python",
   "name": "python3"
  },
  "language_info": {
   "codemirror_mode": {
    "name": "ipython",
    "version": 3
   },
   "file_extension": ".py",
   "mimetype": "text/x-python",
   "name": "python",
   "nbconvert_exporter": "python",
   "pygments_lexer": "ipython3",
   "version": "3.7.1"
  }
 },
 "nbformat": 4,
 "nbformat_minor": 2
}
